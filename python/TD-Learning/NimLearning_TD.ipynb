{
 "cells": [
  {
   "cell_type": "markdown",
   "metadata": {},
   "source": [
    "# Temporal Difference Learning with Nim"
   ]
  },
  {
   "cell_type": "markdown",
   "metadata": {},
   "source": [
    "## 1 - Initialization"
   ]
  },
  {
   "cell_type": "code",
   "execution_count": 8,
   "metadata": {
    "collapsed": false
   },
   "outputs": [],
   "source": [
    "#import numpy as np\n",
    "import random as rnd\n",
    "#import matplotlib.pyplot as plt\n",
    "\n",
    "from SA import SA\n",
    "\n",
    "from AgentQ import AgentQ\n",
    "from AgentSARSA import AgentSARSA\n",
    "\n",
    "# Variables initialization\n",
    "# RL\n",
    "stepSize = 0.1\n",
    "discount = 1 # no discounting\n",
    "epsilon = 0.1\n",
    "# Nim\n",
    "board = [5,5,5,5]\n",
    "sarsa_flag = False\n",
    "runMax = 1E4\n",
    "repetMax = 1"
   ]
  },
  {
   "cell_type": "markdown",
   "metadata": {},
   "source": [
    "## 2 - Reinforcement Learning"
   ]
  },
  {
   "cell_type": "code",
   "execution_count": 9,
   "metadata": {
    "collapsed": false
   },
   "outputs": [],
   "source": [
    "if sarsa_flag:\n",
    "    agent = AgentSARSA(SA(board), stepSize, discount, epsilon)\n",
    "else:\n",
    "    agent = AgentQ(SA(board), stepSize, discount, epsilon)\n",
    "episode = []\n",
    "wins = []\n",
    "optmoves = []\n",
    "\n"
   ]
  }
 ],
 "metadata": {
  "kernelspec": {
   "display_name": "Python 2",
   "language": "python",
   "name": "python2"
  },
  "language_info": {
   "codemirror_mode": {
    "name": "ipython",
    "version": 2
   },
   "file_extension": ".py",
   "mimetype": "text/x-python",
   "name": "python",
   "nbconvert_exporter": "python",
   "pygments_lexer": "ipython2",
   "version": "2.7.13"
  }
 },
 "nbformat": 4,
 "nbformat_minor": 2
}
