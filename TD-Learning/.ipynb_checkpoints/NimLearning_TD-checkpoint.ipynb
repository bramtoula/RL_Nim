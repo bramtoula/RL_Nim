{
 "cells": [
  {
   "cell_type": "markdown",
   "metadata": {},
   "source": [
    "# Temporal Difference Learning with Nim"
   ]
  },
  {
   "cell_type": "markdown",
   "metadata": {},
   "source": [
    "## 1 - Initialization"
   ]
  },
  {
   "cell_type": "code",
   "execution_count": 1,
   "metadata": {
    "collapsed": false
   },
   "outputs": [],
   "source": [
    "#import numpy as np\n",
    "from time import sleep\n",
    "import random as rnd\n",
    "import matplotlib.pyplot as plt\n",
    "from IPython.display import clear_output\n",
    "\n",
    "from SA import SA\n",
    "\n",
    "from AgentQ import AgentQ\n",
    "from Opponent import Opponent\n",
    "\n",
    "# Variables initialization\n",
    "# RL\n",
    "discount = 1 # no discounting (gamma)\n",
    "stepSize = 1 # alpha - learning rate\n",
    "epsilon = 1 # for the e-greedy policy\n",
    "opp_epsilon = 0. # fraction of random for the opp\n",
    "# Nim\n",
    "board_ini = sorted([5,5,5,5])\n",
    "runMax = int(3E4)\n",
    "\n",
    "# Function initialization\n",
    "def init_board():\n",
    "    \"\"\"\n",
    "    Return a random board based on board_ini\n",
    "    \"\"\"\n",
    "    for i in range(len(board_ini)):\n",
    "        board[i] = rnd.randint(0,board_ini[i])\n",
    "    board.sort()\n",
    "    \n",
    "    if board[-1] == 0:\n",
    "        return init_board()\n",
    "    return board"
   ]
  },
  {
   "cell_type": "markdown",
   "metadata": {},
   "source": [
    "## 2 - Reinforcement Learning"
   ]
  },
  {
   "cell_type": "code",
   "execution_count": 2,
   "metadata": {
    "collapsed": false
   },
   "outputs": [
    {
     "name": "stdout",
     "output_type": "stream",
     "text": [
      "run   : 30000/30000\n",
      "\n"
     ]
    }
   ],
   "source": [
    "# Board and agent\n",
    "board = list(board_ini)\n",
    "board_end = [0] * len(board_ini)\n",
    "agent = AgentQ(SA(board), stepSize, discount, epsilon)\n",
    "oppLearning = Opponent(SA(board), policy=\"e-optimal\", epsilon=opp_epsilon)\n",
    "oppOptimal = Opponent(SA(board), policy=\"optimal\")\n",
    "\n",
    "# Learning curves parameters\n",
    "learning_win = []\n",
    "greedy_win = []\n",
    "optimalMoves = []\n",
    "optimalMoves_runNb = []\n",
    "optMoveFound_Recall = []\n",
    "optMoveFound_Precision = []\n",
    "optMoveFound_F = []\n",
    "optMoveFound_runNb = []\n",
    "\n",
    "# Learning\n",
    "for run in range(runMax):\n",
    "    if (run+1) % 1000 == 0:\n",
    "        clear_output()\n",
    "        print(\"run   : {0}/{1}\\n\".format(run+1, runMax))\n",
    "    \n",
    "    board = init_board()\n",
    "    \n",
    "    agentIsFirst = rnd.randint(0,1)\n",
    "    if agentIsFirst == False:\n",
    "        oppLearning.move(board)\n",
    "        if board == board_end:\n",
    "            learning_win.append(0)\n",
    "            continue\n",
    "    \n",
    "    while True:\n",
    "        agent.move(board)\n",
    "        if board == board_end:\n",
    "            agent.winUpdate()\n",
    "            learning_win.append(1)\n",
    "            break\n",
    "        \n",
    "        oppLearning.move(board)\n",
    "        if board == board_end:\n",
    "            agent.loseUpdate()\n",
    "            learning_win.append(0)\n",
    "            break\n",
    "            \n",
    "        agent.updateQ(board)\n",
    "    \n",
    "    ### Test the agent every 100 runs on 100 more runs\n",
    "    if (run+1) % 100 == 0:\n",
    "        optMovePossible = 0.\n",
    "        optMoveMade = 0.\n",
    "        wins = 0.\n",
    "        for _ in range(100):\n",
    "            board = init_board()\n",
    "            before = 0\n",
    "            for i in range(len(board)):\n",
    "                before ^= board[i]\n",
    "            while before == 0:\n",
    "                board = init_board()\n",
    "                before = 0\n",
    "                for i in range(len(board)):\n",
    "                    before ^= board[i]\n",
    "            \n",
    "            while True:\n",
    "                before = 0\n",
    "                for i in range(len(board)):\n",
    "                    before ^= board[i]\n",
    "                if before != 0:\n",
    "                    optMovePossible += 1\n",
    "                    \n",
    "                agent.greedyMove(board)\n",
    "               \n",
    "                after = 0\n",
    "                for i in range(len(board)):\n",
    "                    after ^= board[i]\n",
    "                if after == 0:\n",
    "                    optMoveMade += 1\n",
    "                \n",
    "                if board == board_end:\n",
    "                    wins += 1.\n",
    "                    break\n",
    "                \n",
    "                oppOptimal.move(board)\n",
    "                if board == board_end:\n",
    "                    wins += 0.\n",
    "                    break\n",
    "        \n",
    "        greedy_win.append(wins)\n",
    "        optimalMoves.append(optMoveMade/optMovePossible*100)\n",
    "        optimalMoves_runNb.append(run)\n",
    "        \n",
    "        optMove_P = 0.\n",
    "        optMove_TP = 0.\n",
    "        optMove_FP = 0.\n",
    "        for s in agent.states:\n",
    "            board = list(agent.states[s])\n",
    "            for heap in range(len(board)):\n",
    "                for action in range(1,1+board[heap]):\n",
    "                    temp_board = list(board)\n",
    "                    temp_board[heap] -= action\n",
    "                              \n",
    "                    nimSum = 0\n",
    "                    for i in range(len(temp_board)):\n",
    "                        nimSum ^= temp_board[i]\n",
    "                    \n",
    "                    \n",
    "                    a = agent.actions.index([heap,action])\n",
    "                    if nimSum == 0:\n",
    "                        optMove_P += 1.\n",
    "                        if agent.Q[s][a] >= 0.9:\n",
    "                            optMove_TP += 1.\n",
    "                    elif agent.Q[s][a] >= 0.9:\n",
    "                        optMove_FP += 1.\n",
    "        \n",
    "        optMoveFound_Recall.append(optMove_TP/optMove_P)\n",
    "        if optMove_TP+optMove_FP == 0:\n",
    "            optMoveFound_Precision.append(0.)\n",
    "        else:\n",
    "            optMoveFound_Precision.append(optMove_TP/(optMove_TP+optMove_FP))\n",
    "        if optMoveFound_Precision[-1]+optMoveFound_Recall[-1] == 0:\n",
    "            optMoveFound_F.append(0.)\n",
    "        else:\n",
    "            optMoveFound_F.append(2*optMoveFound_Precision[-1]*optMoveFound_Recall[-1] / \\\n",
    "                              (optMoveFound_Precision[-1]+optMoveFound_Recall[-1]))\n",
    "        optMoveFound_runNb.append(run)"
   ]
  },
  {
   "cell_type": "markdown",
   "metadata": {},
   "source": [
    "## 3 - Learning curves"
   ]
  },
  {
   "cell_type": "code",
   "execution_count": 3,
   "metadata": {
    "collapsed": false
   },
   "outputs": [
    {
     "data": {
      "image/png": "[encoded data removed]",
      "text/plain": [
       "<matplotlib.figure.Figure at 0x76e3e80>"
      ]
     },
     "metadata": {},
     "output_type": "display_data"
    },
    {
     "data": {
      "image/png": "[encoded data removed]",
      "text/plain": [
       "<matplotlib.figure.Figure at 0x73550f0>"
      ]
     },
     "metadata": {},
     "output_type": "display_data"
    },
    {
     "data": {
      "image/png": "[encoded data removed]",
      "text/plain": [
       "<matplotlib.figure.Figure at 0x7f5b358>"
      ]
     },
     "metadata": {},
     "output_type": "display_data"
    },
    {
     "data": {
      "image/png": "[encoded data removed]",
      "text/plain": [
       "<matplotlib.figure.Figure at 0x7f5b518>"
      ]
     },
     "metadata": {},
     "output_type": "display_data"
    }
   ],
   "source": [
    "# Window averaging\n",
    "half_window = 1000\n",
    "learning_win_ave = []\n",
    "\n",
    "for i in range(len(learning_win)):\n",
    "    startIndex = i - half_window\n",
    "    if startIndex < 0:\n",
    "        startIndex = 0\n",
    "        \n",
    "    endIndex = i + half_window + 1\n",
    "    if endIndex > len(learning_win):\n",
    "        endIndex = len(learning_win)\n",
    "    \n",
    "    learning_win_ave.append(float(sum(learning_win[startIndex:endIndex])) / (len(learning_win[startIndex:endIndex])))\n",
    "\n",
    "plt.plot(learning_win_ave)\n",
    "plt.title(\"Learning curve\")\n",
    "plt.xlabel(\"Run\"); plt.ylabel(\"Reward\")\n",
    "plt.axis([0, runMax, 0, 1.05]); plt.grid(True)\n",
    "plt.show()\n",
    "\n",
    "plt.plot(optimalMoves_runNb, greedy_win)\n",
    "plt.title(\"Win rate\")\n",
    "plt.xlabel(\"Run\"); plt.ylabel(\"%\")\n",
    "plt.axis([0, runMax, 0, 105]); plt.grid(True)\n",
    "plt.show()\n",
    "\n",
    "plt.plot(optimalMoves_runNb, optimalMoves)\n",
    "plt.title(\"Optimal move rate\")\n",
    "plt.xlabel(\"Run\"); plt.ylabel(\"%\")\n",
    "plt.axis([0, runMax, 0, 105]); plt.grid(True)\n",
    "plt.show() \n",
    "\n",
    "plt.plot(optMoveFound_runNb, optMoveFound_F)\n",
    "plt.title(\"F-measure\")\n",
    "plt.xlabel(\"Run\"); plt.ylabel(\"F-score\")\n",
    "plt.axis([0, runMax, 0, 1.05]); plt.grid(True)\n",
    "plt.show()     "
   ]
  },
  {
   "cell_type": "markdown",
   "metadata": {},
   "source": [
    "## 4 - Test of the agent after learning"
   ]
  },
  {
   "cell_type": "code",
   "execution_count": 4,
   "metadata": {
    "collapsed": false
   },
   "outputs": [
    {
     "name": "stdout",
     "output_type": "stream",
     "text": [
      "Win rate = 982/982 = 100.00%\n",
      "\n",
      "Optimal moves rate = 2566/2566 = 100.00%\n",
      "\n",
      "Recall = 1.000\n",
      "Precision = 1.000\n",
      "F-measure = 1.000\n"
     ]
    }
   ],
   "source": [
    "trials = 2000\n",
    "wins = 0\n",
    "winStart = 0\n",
    "optMove = 0\n",
    "optDone = 0\n",
    "for i in range(trials):\n",
    "    board = init_board()\n",
    "        \n",
    "    agentIsFirst = rnd.randint(0,1)\n",
    "    if agentIsFirst == False:\n",
    "        oppOptimal.move(board)\n",
    "        if board == board_end:\n",
    "            continue\n",
    "    \n",
    "    before = 0\n",
    "    for i in range(len(board)):\n",
    "        before ^= board[i]\n",
    "    if before != 0:\n",
    "        winStart += 1\n",
    "    while True:\n",
    "        before = 0\n",
    "        for i in range(len(board)):\n",
    "            before ^= board[i]\n",
    "        if before != 0:\n",
    "            optMove += 1\n",
    "            \n",
    "        agent.greedyMove(board)\n",
    "       \n",
    "        after = 0\n",
    "        for i in range(len(board)):\n",
    "            after ^= board[i]\n",
    "        if after == 0:\n",
    "            optDone += 1\n",
    "        \n",
    "        if board == board_end:\n",
    "            wins += 1\n",
    "            break\n",
    "        \n",
    "        oppOptimal.move(board)\n",
    "        if board == board_end:\n",
    "            break\n",
    "\n",
    "print \"Win rate = {}/{} = {:.2f}%\\n\\nOptimal moves rate = {}/{} = {:.2f}%\\n\".format(wins, winStart, float(wins)/float(winStart)*100, \\\n",
    "              optDone, optMove, float(optDone)/float(optMove)*100)\n",
    "\n",
    "optMove_P = 0.\n",
    "optMove_TP = 0.\n",
    "optMove_FP = 0.\n",
    "for s in agent.states:\n",
    "    board = list(agent.states[s])\n",
    "    for heap in range(len(board)):\n",
    "        for action in range(1,1+board[heap]):\n",
    "            temp_board = list(board)\n",
    "            temp_board[heap] -= action\n",
    "                      \n",
    "            nimSum = 0\n",
    "            for i in range(len(temp_board)):\n",
    "                nimSum ^= temp_board[i]\n",
    "            \n",
    "            \n",
    "            a = agent.actions.index([heap,action])\n",
    "            if nimSum == 0:\n",
    "                optMove_P += 1.\n",
    "                if agent.Q[s][a] >= 0.9:\n",
    "                    optMove_TP += 1.\n",
    "            elif agent.Q[s][a] >= 0.9:\n",
    "                optMove_FP += 1.\n",
    "\n",
    "optMoveFound_Recall = optMove_TP/optMove_P\n",
    "if optMove_TP+optMove_FP == 0.:\n",
    "    optMoveFound_Precision = 0.\n",
    "else:\n",
    "    optMoveFound_Precision = optMove_TP/(optMove_TP+optMove_FP)\n",
    "if optMoveFound_Precision+optMoveFound_Recall == 0:\n",
    "    optMoveFound_F = 0.\n",
    "else:\n",
    "    optMoveFound_F = 2*optMoveFound_Precision*optMoveFound_Recall / \\\n",
    "                      (optMoveFound_Precision+optMoveFound_Recall)\n",
    "                \n",
    "print \"Recall = {:.3f}\".format(optMoveFound_Recall)\n",
    "print \"Precision = {:.3f}\".format(optMoveFound_Precision)\n",
    "print \"F-measure = {:.3f}\".format(optMoveFound_F)"
   ]
  },
  {
   "cell_type": "markdown",
   "metadata": {},
   "source": [
    "## 5 - Play against the agent"
   ]
  },
  {
   "cell_type": "code",
   "execution_count": 5,
   "metadata": {
    "collapsed": false
   },
   "outputs": [
    {
     "name": "stdout",
     "output_type": "stream",
     "text": [
      "You won !\n",
      "Do you want to play again? (y/n)n\n"
     ]
    }
   ],
   "source": [
    "clear_output()\n",
    "wantToPlay = True\n",
    "\n",
    "while wantToPlay:\n",
    "    print \"Nim - New game\\n\"\n",
    "    \n",
    "    print \"Let's start by defining our game:\"\n",
    "    print \"There are {} heaps, but some of them might be empty.\".format(len(board_ini))\n",
    "    \n",
    "    board = []\n",
    "    for x in range(len(board_ini)):\n",
    "        num = raw_input(\"Enter number of matches on heap {}: (must be between 0 and {})\\n\".format(x+1, board_ini[x]))\n",
    "        num = int(num)\n",
    "        while num < 0 or num > 5:\n",
    "            clear_output()\n",
    "            print \"Wrong number of matches!\"\n",
    "            num = raw_input(\"Enter number of matches on heap {}: (must be between 0 and {})\\n\".format(x+1, board_ini[x]))\n",
    "            num=int(num)\n",
    "        board.append(num)\n",
    "    while len(board) < len(board_ini):\n",
    "        board.append(0)\n",
    "    \n",
    "    if board == board_end:\n",
    "        clear_output()\n",
    "        print \"The board cannot be empty! Let's restart...\"\n",
    "        sleep(1.3)\n",
    "        continue\n",
    "    \n",
    "    clear_output()\n",
    "    print \"Note that the board will be sorted after each move.\"\n",
    "    print \"Current board: {}\\n\".format(board)\n",
    "    board.sort()\n",
    "    print \"Sorted board: {}\\n\".format(board)\n",
    "    \n",
    "    userStart = raw_input(\"Do you want to start? (y/n)\\n\")\n",
    "    \n",
    "    if userStart.startswith('n') or userStart.startswith('N'):\n",
    "        print \"The agent moves...\"\n",
    "        sleep(1.3)\n",
    "        agent.greedyMove(board)\n",
    "        clear_output()\n",
    "        print \"Current board: {}\\n\".format(board)\n",
    "    else:\n",
    "        clear_output()\n",
    "        print \"Current board: {}\\n\".format(board)\n",
    "    \n",
    "    while True:\n",
    "        userMove = True\n",
    "        while userMove:\n",
    "            heap, num = raw_input(\"Enter heap and number of matches you want to take separated with space ex.(1 2):  \").split()\n",
    "            heap = int(heap)-1\n",
    "            num = int(num)\n",
    "            \n",
    "            if heap < 0 or heap >= len(board):\n",
    "                print \"Wrong heap! Try again\"\n",
    "                continue\n",
    "            if num < 1 or num > board[heap]:\n",
    "                print \"Wrong number! Try again\"\n",
    "                continue\n",
    "            \n",
    "            board[heap] -= num\n",
    "            board.sort()\n",
    "            userMove = False\n",
    "        \n",
    "        clear_output()\n",
    "        if board == board_end:\n",
    "            print \"You won !\"\n",
    "            break\n",
    "        \n",
    "        print \"Current board: {}\\n\".format(board)\n",
    "        print \"The agent moves...\"\n",
    "        sleep(1.3)\n",
    "        agent.greedyMove(board)\n",
    "        clear_output()\n",
    "        if board == board_end:\n",
    "            print \"You lost...\"\n",
    "            break\n",
    "        print \"Current board: {}\\n\".format(board)\n",
    "        \n",
    "    wantToPlay = raw_input(\"Do you want to play again? (y/n)\")\n",
    "    if wantToPlay.startswith('y') or userStart.startswith('Y'):\n",
    "        wantToPlay = True\n",
    "    else:\n",
    "        wantToPlay = False"
   ]
  }
 ],
 "metadata": {
  "kernelspec": {
   "display_name": "Python 2",
   "language": "python",
   "name": "python2"
  },
  "language_info": {
   "codemirror_mode": {
    "name": "ipython",
    "version": 2
   },
   "file_extension": ".py",
   "mimetype": "text/x-python",
   "name": "python",
   "nbconvert_exporter": "python",
   "pygments_lexer": "ipython2",
   "version": "2.7.13"
  }
 },
 "nbformat": 4,
 "nbformat_minor": 2
}
