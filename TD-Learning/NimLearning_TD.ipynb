{
 "cells": [
  {
   "cell_type": "markdown",
   "metadata": {},
   "source": [
    "# Temporal Difference Learning with Nim"
   ]
  },
  {
   "cell_type": "markdown",
   "metadata": {},
   "source": [
    "## 1 - Initialization"
   ]
  },
  {
   "cell_type": "code",
   "execution_count": 21,
   "metadata": {
    "collapsed": false
   },
   "outputs": [],
   "source": [
    "#import numpy as np\n",
    "import random as rnd\n",
    "import matplotlib.pyplot as plt\n",
    "from IPython.display import clear_output\n",
    "\n",
    "from SA import SA\n",
    "\n",
    "from AgentQ import AgentQ\n",
    "from AgentSARSA import AgentSARSA\n",
    "from Opponent import Opponent\n",
    "\n",
    "# Variables initialization\n",
    "# RL\n",
    "stepSize = 0.5 # alpha\n",
    "discount = 1 # no discounting (gamma)\n",
    "epsilon = 0.5 # for the e-greedy policy\n",
    "# Nim\n",
    "board_ini = sorted([5,5,5,5])\n",
    "sarsa_flag = False\n",
    "runMax = int(3E4)\n",
    "\n",
    "# Function initialization\n",
    "def init_board():\n",
    "    \"\"\"\n",
    "    Return a random board based on board_ini\n",
    "    \"\"\"\n",
    "    for i in range(len(board_ini)):\n",
    "        board[i] = rnd.randint(0,board_ini[i])\n",
    "    board.sort()\n",
    "    \n",
    "    if board[-1] == 0:\n",
    "        return init_board()\n",
    "    return board"
   ]
  },
  {
   "cell_type": "markdown",
   "metadata": {},
   "source": [
    "## 2 - Reinforcement Learning"
   ]
  },
  {
   "cell_type": "code",
   "execution_count": 22,
   "metadata": {
    "collapsed": false
   },
   "outputs": [
    {
     "name": "stdout",
     "output_type": "stream",
     "text": [
      "run   : 30000/30000\n",
      "\n"
     ]
    }
   ],
   "source": [
    "# Board and agent\n",
    "board = list(board_ini)\n",
    "board_end = [0] * len(board_ini)\n",
    "if sarsa_flag:\n",
    "    agent = AgentSARSA(SA(board), stepSize, discount, epsilon)\n",
    "else:\n",
    "    agent = AgentQ(SA(board), stepSize, discount, epsilon)\n",
    "oppLearning = Opponent(SA(board), policy=\"optimal\", epsilon=0.1)\n",
    "oppOptimal = Opponent(SA(board), policy=\"optimal\")\n",
    "\n",
    "# Learning curves parameters\n",
    "learning_win = []\n",
    "greedy_win = []\n",
    "optimalMoves = []\n",
    "optimalMoves_runNb = []\n",
    "optMoveFound_list = []\n",
    "optMoveFound_runNb = []\n",
    "\n",
    "# Learning\n",
    "for run in range(runMax):\n",
    "    if (run+1) % 100 == 0:\n",
    "        clear_output()\n",
    "        print(\"run   : {0}/{1}\\n\".format(run+1, runMax))\n",
    "    \n",
    "    board = init_board()\n",
    "    \n",
    "    agentIsFirst = rnd.randint(0,1)\n",
    "    if agentIsFirst == False:\n",
    "        oppLearning.move(board)\n",
    "        if board == board_end:\n",
    "            learning_win.append(0)\n",
    "            continue\n",
    "    \n",
    "    while True:\n",
    "        agent.move(board)\n",
    "        if board == board_end:\n",
    "            agent.winUpdate()\n",
    "            learning_win.append(1)\n",
    "            break\n",
    "        \n",
    "        oppLearning.move(board)\n",
    "        if board == board_end:\n",
    "            agent.loseUpdate()\n",
    "            learning_win.append(0)\n",
    "            break\n",
    "            \n",
    "        agent.updateQ(board)\n",
    "    \n",
    "    ### Test the agent every 100 runs on 100 more runs\n",
    "    if (run+1) % 100 == 0:\n",
    "        optMovePossible = 0.\n",
    "        optMoveMade = 0.\n",
    "        wins = 0.\n",
    "        for _ in range(100):\n",
    "            board = init_board()\n",
    "            before = 0\n",
    "            for i in range(len(board)):\n",
    "                before ^= board[i]\n",
    "            while before == 0:\n",
    "                board = init_board()\n",
    "                before = 0\n",
    "                for i in range(len(board)):\n",
    "                    before ^= board[i]\n",
    "            \n",
    "            while True:\n",
    "                before = 0\n",
    "                for i in range(len(board)):\n",
    "                    before ^= board[i]\n",
    "                if before != 0:\n",
    "                    optMovePossible += 1\n",
    "                    \n",
    "                agent.greedyMove(board)\n",
    "               \n",
    "                after = 0\n",
    "                for i in range(len(board)):\n",
    "                    after ^= board[i]\n",
    "                if after == 0:\n",
    "                    optMoveMade += 1\n",
    "                \n",
    "                if board == board_end:\n",
    "                    wins += 1.\n",
    "                    break\n",
    "                \n",
    "                oppOptimal.move(board)\n",
    "                if board == board_end:\n",
    "                    wins += 0.\n",
    "                    break\n",
    "        \n",
    "        greedy_win.append(wins)\n",
    "        optimalMoves.append(optMoveMade/optMovePossible*100)\n",
    "        optimalMoves_runNb.append(run)\n",
    "        \n",
    "        optMoveNb = 0.\n",
    "        optMoveFound = 0.\n",
    "        for s in agent.states:\n",
    "            board = list(agent.states[s])\n",
    "            for heap in range(len(board)):\n",
    "                for action in range(1,1+board[heap]):\n",
    "                    temp_board = list(board)\n",
    "                    temp_board[heap] -= action\n",
    "                              \n",
    "                    nimSum = 0\n",
    "                    for i in range(len(temp_board)):\n",
    "                        nimSum ^= temp_board[i]\n",
    "                    \n",
    "                    if nimSum == 0:\n",
    "                        optMoveNb += 1.\n",
    "                        a = agent.actions.index([heap,action])\n",
    "                        if agent.Q[s][a] >= max(agent.Q[s])-1E-1 and agent.Q[s][a] >= 0.5:\n",
    "                            optMoveFound += 1.\n",
    "        optMoveFound_list.append(optMoveFound/optMoveNb*100)\n",
    "        optMoveFound_runNb.append(run)"
   ]
  },
  {
   "cell_type": "markdown",
   "metadata": {},
   "source": [
    "## 3 - Learning curves"
   ]
  },
  {
   "cell_type": "code",
   "execution_count": 23,
   "metadata": {
    "collapsed": false
   },
   "outputs": [
    {
     "data": {
      "image/png": "[encoded data removed]",
      "text/plain": [
       "<matplotlib.figure.Figure at 0x8f62208>"
      ]
     },
     "metadata": {},
     "output_type": "display_data"
    },
    {
     "data": {
      "image/png": "[encoded data removed]",
      "text/plain": [
       "<matplotlib.figure.Figure at 0x9347588>"
      ]
     },
     "metadata": {},
     "output_type": "display_data"
    },
    {
     "data": {
      "image/png": "[encoded data removed]",
      "text/plain": [
       "<matplotlib.figure.Figure at 0x9347668>"
      ]
     },
     "metadata": {},
     "output_type": "display_data"
    },
    {
     "data": {
      "image/png": "[encoded data removed]",
      "text/plain": [
       "<matplotlib.figure.Figure at 0x9607208>"
      ]
     },
     "metadata": {},
     "output_type": "display_data"
    }
   ],
   "source": [
    "# Window averaging\n",
    "half_window = 1000\n",
    "learning_win_ave = []\n",
    "\n",
    "for i in range(len(learning_win)):\n",
    "    startIndex = i - half_window\n",
    "    if startIndex < 0:\n",
    "        startIndex = 0\n",
    "        \n",
    "    endIndex = i + half_window + 1\n",
    "    if endIndex > len(learning_win):\n",
    "        endIndex = len(learning_win)\n",
    "    \n",
    "    learning_win_ave.append(float(sum(learning_win[startIndex:endIndex])) / (len(learning_win[startIndex:endIndex])))\n",
    "\n",
    "plt.plot(learning_win_ave)\n",
    "plt.title(\"Learning curve\")\n",
    "plt.show()\n",
    "\n",
    "plt.plot(greedy_win)\n",
    "plt.title(\"Win rate\")\n",
    "plt.show()\n",
    "\n",
    "plt.plot(optimalMoves_runNb, optimalMoves)\n",
    "plt.title(\"Optimal move rate\")\n",
    "plt.show() \n",
    "\n",
    "plt.plot(optMoveFound_runNb, optMoveFound_list)\n",
    "plt.title(\"Rate of optimal moves found\")\n",
    "plt.show()     "
   ]
  },
  {
   "cell_type": "markdown",
   "metadata": {},
   "source": [
    "## 4 - Test of the agent after learning"
   ]
  },
  {
   "cell_type": "code",
   "execution_count": 25,
   "metadata": {
    "collapsed": false
   },
   "outputs": [
    {
     "name": "stdout",
     "output_type": "stream",
     "text": [
      "Win rate = 999/999 = 100.00%\n",
      "\n",
      "Optimal moves rate = 3283/3283 = 100.00%\n",
      "\n",
      "Optimal moves found = 80.36%\n"
     ]
    }
   ],
   "source": [
    "trials = 2000\n",
    "wins = 0\n",
    "winStart = 0\n",
    "optMove = 0\n",
    "optDone = 0\n",
    "for i in range(trials):\n",
    "    board = init_board()\n",
    "        \n",
    "    agentIsFirst = rnd.randint(0,1)\n",
    "    if agentIsFirst == False:\n",
    "        oppOptimal.move(board)\n",
    "        if board == board_end:\n",
    "            continue\n",
    "    \n",
    "    before = 0\n",
    "    for i in range(len(board)):\n",
    "        before ^= board[i]\n",
    "    if before != 0:\n",
    "        winStart += 1\n",
    "    while True:\n",
    "        before = 0\n",
    "        for i in range(len(board)):\n",
    "            before ^= board[i]\n",
    "        if before != 0:\n",
    "            optMove += 1\n",
    "            \n",
    "        agent.greedyMove(board)\n",
    "       \n",
    "        after = 0\n",
    "        for i in range(len(board)):\n",
    "            after ^= board[i]\n",
    "        if after == 0:\n",
    "            optDone += 1\n",
    "        \n",
    "        if board == board_end:\n",
    "            wins += 1\n",
    "            break\n",
    "        \n",
    "        oppOptimal.move(board)\n",
    "        if board == board_end:\n",
    "            break\n",
    "\n",
    "print \"Win rate = {}/{} = {:.2f}%\\n\\nOptimal moves rate = {}/{} = {:.2f}%\\n\".format(wins, winStart, float(wins)/float(winStart)*100, \\\n",
    "              optDone, optMove, float(optDone)/float(optMove)*100)\n",
    "\n",
    "optMoveNb = 0.\n",
    "optMoveFound = 0.\n",
    "\n",
    "for s in agent.states:\n",
    "    board = list(agent.states[s])\n",
    "    for heap in range(len(board)):\n",
    "        for action in range(1,1+board[heap]):\n",
    "            temp_board = list(board)\n",
    "            temp_board[heap] -= action\n",
    "                      \n",
    "            nimSum = 0\n",
    "            for i in range(len(temp_board)):\n",
    "                nimSum ^= temp_board[i]\n",
    "            \n",
    "            if nimSum == 0:\n",
    "                optMoveNb += 1.\n",
    "                a = agent.actions.index([heap,action])\n",
    "                if agent.Q[s][a] >= max(agent.Q[s])-1E-1 and agent.Q[s][a] >= 0.5:\n",
    "                    optMoveFound += 1.\n",
    "            \n",
    "            \n",
    "print \"Optimal moves found = {:.2f}%\".format(optMoveFound/optMoveNb*100)"
   ]
  }
 ],
 "metadata": {
  "kernelspec": {
   "display_name": "Python 2",
   "language": "python",
   "name": "python2"
  },
  "language_info": {
   "codemirror_mode": {
    "name": "ipython",
    "version": 2
   },
   "file_extension": ".py",
   "mimetype": "text/x-python",
   "name": "python",
   "nbconvert_exporter": "python",
   "pygments_lexer": "ipython2",
   "version": "2.7.13"
  }
 },
 "nbformat": 4,
 "nbformat_minor": 2
}
